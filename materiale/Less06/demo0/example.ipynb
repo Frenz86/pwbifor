{
 "cells": [
  {
   "cell_type": "code",
   "execution_count": 2,
   "metadata": {},
   "outputs": [
    {
     "name": "stdout",
     "output_type": "stream",
     "text": [
      "            ds       trend  yhat_lower  yhat_upper  trend_lower  trend_upper  \\\n",
      "0   1949-01-01  106.354536   55.933282  114.100974   106.354536   106.354536   \n",
      "1   1949-02-01  108.537164   48.927331  105.805244   108.537164   108.537164   \n",
      "2   1949-03-01  110.508569   80.858213  137.830171   110.508569   110.508569   \n",
      "3   1949-04-01  112.691197   78.163932  133.713517   112.691197   112.691197   \n",
      "4   1949-05-01  114.803417   81.812945  138.790699   114.803417   114.803417   \n",
      "..         ...         ...         ...         ...          ...          ...   \n",
      "189 1964-10-01  624.608002  571.453016  631.740797   619.796808   629.242777   \n",
      "190 1964-11-01  627.716593  539.658007  596.147896   622.775153   632.549290   \n",
      "191 1964-12-01  630.724908  566.566695  626.781140   625.657294   635.714013   \n",
      "192 1965-01-01  633.833499  584.177493  640.742774   628.601189   638.993074   \n",
      "193 1965-02-01  636.942091  577.198026  635.849605   631.490314   642.178419   \n",
      "\n",
      "     additive_terms  additive_terms_lower  additive_terms_upper     yearly  \\\n",
      "0        -21.952141            -21.952141            -21.952141 -21.952141   \n",
      "1        -30.711556            -30.711556            -30.711556 -30.711556   \n",
      "2         -0.481427             -0.481427             -0.481427  -0.481427   \n",
      "3         -5.189524             -5.189524             -5.189524  -5.189524   \n",
      "4         -3.790598             -3.790598             -3.790598  -3.790598   \n",
      "..              ...                   ...                   ...        ...   \n",
      "189      -21.759644            -21.759644            -21.759644 -21.759644   \n",
      "190      -59.607804            -59.607804            -59.607804 -59.607804   \n",
      "191      -33.458197            -33.458197            -33.458197 -33.458197   \n",
      "192      -21.952141            -21.952141            -21.952141 -21.952141   \n",
      "193      -30.711556            -30.711556            -30.711556 -30.711556   \n",
      "\n",
      "     yearly_lower  yearly_upper  multiplicative_terms  \\\n",
      "0      -21.952141    -21.952141                   0.0   \n",
      "1      -30.711556    -30.711556                   0.0   \n",
      "2       -0.481427     -0.481427                   0.0   \n",
      "3       -5.189524     -5.189524                   0.0   \n",
      "4       -3.790598     -3.790598                   0.0   \n",
      "..            ...           ...                   ...   \n",
      "189    -21.759644    -21.759644                   0.0   \n",
      "190    -59.607804    -59.607804                   0.0   \n",
      "191    -33.458197    -33.458197                   0.0   \n",
      "192    -21.952141    -21.952141                   0.0   \n",
      "193    -30.711556    -30.711556                   0.0   \n",
      "\n",
      "     multiplicative_terms_lower  multiplicative_terms_upper        yhat  \n",
      "0                           0.0                         0.0   84.402395  \n",
      "1                           0.0                         0.0   77.825607  \n",
      "2                           0.0                         0.0  110.027143  \n",
      "3                           0.0                         0.0  107.501673  \n",
      "4                           0.0                         0.0  111.012819  \n",
      "..                          ...                         ...         ...  \n",
      "189                         0.0                         0.0  602.848357  \n",
      "190                         0.0                         0.0  568.108789  \n",
      "191                         0.0                         0.0  597.266711  \n",
      "192                         0.0                         0.0  611.881358  \n",
      "193                         0.0                         0.0  606.230535  \n",
      "\n",
      "[194 rows x 16 columns]\n"
     ]
    }
   ],
   "source": [
    "import pandas as pd\n",
    "from prophet import Prophet\n",
    "import joblib\n",
    "\n",
    "url =\"https://frenzy86.s3.eu-west-2.amazonaws.com/timeseries/Data/airline_passengers.csv\"\n",
    "modelpath = \"model_prophet.pkl\"\n",
    "\n",
    "\n",
    "df = pd.read_csv(url)\n",
    "df.columns = ['ds','y']\n",
    "df['ds'] = pd.to_datetime(df['ds'])\n",
    "\n",
    "#model = Prophet()\n",
    "#model.fit(df)\n",
    "\n",
    "#joblib.dump(model,modelpath)  # Save model\n",
    "new_model = joblib.load(modelpath)  # Load model\n",
    "future = new_model.make_future_dataframe(50, freq='MS')\n",
    "\n",
    "#prediction\n",
    "forecast = new_model.predict(future)\n",
    "print(forecast)"
   ]
  },
  {
   "cell_type": "code",
   "execution_count": null,
   "metadata": {},
   "outputs": [],
   "source": []
  }
 ],
 "metadata": {
  "kernelspec": {
   "display_name": "Python 3.8.4 64-bit",
   "language": "python",
   "name": "python3"
  },
  "language_info": {
   "codemirror_mode": {
    "name": "ipython",
    "version": 3
   },
   "file_extension": ".py",
   "mimetype": "text/x-python",
   "name": "python",
   "nbconvert_exporter": "python",
   "pygments_lexer": "ipython3",
   "version": "3.8.4"
  },
  "orig_nbformat": 4,
  "vscode": {
   "interpreter": {
    "hash": "8d19b764d49e1dcc271e9a882564bf910ed3916f9785cce1f7e4046018fe4dea"
   }
  }
 },
 "nbformat": 4,
 "nbformat_minor": 2
}
